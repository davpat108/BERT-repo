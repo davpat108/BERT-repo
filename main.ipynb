{
  "nbformat": 4,
  "nbformat_minor": 0,
  "metadata": {
    "kernelspec": {
      "display_name": "Python 3",
      "language": "python",
      "name": "python3"
    },
    "language_info": {
      "codemirror_mode": {
        "name": "ipython",
        "version": 3
      },
      "file_extension": ".py",
      "mimetype": "text/x-python",
      "name": "python",
      "nbconvert_exporter": "python",
      "pygments_lexer": "ipython3",
      "version": "3.7.3"
    },
    "colab": {
      "name": "Copy of main.ipynb",
      "provenance": [],
      "collapsed_sections": []
    },
    "accelerator": "GPU"
  },
  "cells": [
    {
      "cell_type": "code",
      "metadata": {
        "scrolled": true,
        "id": "0tjkF5eGdM9h"
      },
      "source": [
        "import sys\n",
        "!{sys.executable} -m pip install transformers\n",
        "!{sys.executable} -m pip install torch\n",
        "!{sys.executable} -m pip install seaborn\n",
        "!{sys.executable} -m pip install torchvision"
      ],
      "execution_count": null,
      "outputs": []
    },
    {
      "cell_type": "code",
      "metadata": {
        "id": "NSLRGJU4dM9z"
      },
      "source": [
        "\n",
        "from transformers import AutoTokenizer, AutoModel\n",
        "import matplotlib.pyplot as plt\n",
        "import seaborn as sns\n",
        "import numpy as np\n",
        "from torchvision import datasets\n",
        "import torch\n",
        "import torch.nn as nn\n",
        "import torch.optim as optim\n",
        "import csv\n",
        "\n",
        "\n",
        "def preparedata(sentences, tokennumbers):\n",
        "    \n",
        "    RetVal=[]\n",
        "    \n",
        "    inputs=tokenizer(sentences, padding=True, truncation=True, return_tensors=\"pt\")\n",
        "    outputs=aModel(**inputs)\n",
        "    \n",
        "    for i, tokens in enumerate(outputs[0]):\n",
        "        RetVal.append(tokens[int(tokennumbers[i])])\n",
        "    \n",
        "    return RetVal\n",
        "\n",
        "def casetonumber(case):\n",
        "    switch = {\n",
        "        \"Nom\": 0,\n",
        "        \"Acc\": 1,\n",
        "        \"Ins\": 2,\n",
        "        \"Ine\": 3, \n",
        "        \"Sup\": 4,\n",
        "        \"Sub\": 5\n",
        "    }\n",
        "    \n",
        "    return switch.get(case, \"Invalid case\")\n",
        "\n"
      ],
      "execution_count": 1,
      "outputs": []
    },
    {
      "cell_type": "code",
      "metadata": {
        "id": "7-J2stT3dM-C"
      },
      "source": [
        "tokenizer = AutoTokenizer.from_pretrained(\"bert-base-multilingual-cased\")\n",
        "aModel = AutoModel.from_pretrained(\"bert-base-multilingual-cased\")\n",
        "\n",
        "file1 = open(\"outputtrainrevised.csv\")\n",
        "train_tsv=csv.reader( file1, delimiter=\"\\t\")\n",
        "\n",
        "file2 = open(\"outputtestrevised.csv\")\n",
        "test_tsv=csv.reader( file2, delimiter=\"\\t\")\n",
        "\n",
        "training_data=[]\n",
        "test_data=[]\n",
        "\n",
        "\n",
        "for i ,obj in enumerate(train_tsv, 0):\n",
        "    training_data.append([])\n",
        "    training_data[i].append(obj[0])\n",
        "    training_data[i].append(obj[3])\n",
        "    training_data[i].append(casetonumber(obj[4]))\n",
        "\n",
        "    \n",
        "for i, obj in enumerate(test_tsv):\n",
        "    test_data.append([])\n",
        "    test_data[i].append(obj[0])\n",
        "    test_data[i].append(obj[3])\n",
        "    test_data[i].append(casetonumber(obj[4]))\n",
        "\n",
        "\n",
        "trainloader=torch.utils.data.DataLoader(training_data, batch_size=16, shuffle=True)\n",
        "testloader=torch.utils.data.DataLoader(test_data, batch_size=16, shuffle=True)\n",
        "file1.close()\n",
        "file2.close()\n"
      ],
      "execution_count": 2,
      "outputs": []
    },
    {
      "cell_type": "code",
      "metadata": {
        "id": "cq4KBsKldM-M"
      },
      "source": [
        "#test=tokenizer(\"Ez egy testmondat.\", return_tensors=\"pt\")\n",
        "test=tokenizer([\"Ez egy testmondat.\", \"Ez is az.\", \"Emez is az.\"],padding=True, truncation=True, return_tensors=\"pt\")\n",
        "out=aModel(**test)\n",
        "print(out[0][1][0])"
      ],
      "execution_count": null,
      "outputs": []
    },
    {
      "cell_type": "code",
      "metadata": {
        "id": "HTdZwHdEdM-V"
      },
      "source": [
        "\n",
        "class SimpleClassifier(nn.Module):\n",
        "    def __init__(self, input_dim, output_dim, hidden_dim):\n",
        "        super().__init__()\n",
        "        self.input_layer = nn.Linear(input_dim, hidden_dim)\n",
        "        self.relu = nn.ReLU()\n",
        "        self.output_layer = nn.Linear(hidden_dim, output_dim)\n",
        "        \n",
        "    def forward(self, X):\n",
        "        h = self.input_layer(X)\n",
        "        h = self.relu(h)\n",
        "        out = self.output_layer(h)\n",
        "        return out"
      ],
      "execution_count": 3,
      "outputs": []
    },
    {
      "cell_type": "code",
      "metadata": {
        "id": "yPumJn_tdM-f"
      },
      "source": [
        "Net = SimpleClassifier(\n",
        "    input_dim=768,\n",
        "    output_dim=6,\n",
        "    hidden_dim=50\n",
        ")\n",
        "Net\n",
        "Net=Net.cuda()"
      ],
      "execution_count": 4,
      "outputs": []
    },
    {
      "cell_type": "code",
      "metadata": {
        "id": "_AbxQdIUdM-q"
      },
      "source": [
        "\n",
        "\n",
        "def createLoss():\n",
        "    return nn.CrossEntropyLoss()\n",
        "def createOptimizer():\n",
        "    return torch.optim.SGD(Net.parameters(), lr=1e-1, momentum=0.9, nesterov=True, weight_decay=1e-4)\n",
        "numEpoch = 10\n",
        "def creatScheduler():\n",
        "    return torch.optim.lr_scheduler.CosineAnnealingLR(optimizer, numEpoch, eta_min=1e-2)"
      ],
      "execution_count": 5,
      "outputs": []
    },
    {
      "cell_type": "code",
      "metadata": {
        "id": "YuRkHLwidM-y"
      },
      "source": [
        "def train(epoch):\n",
        "    Net.train()\n",
        "    running_loss=0.0\n",
        "    correct = 0.0\n",
        "    total=0\n",
        "    for i, data in enumerate(trainloader, 0):\n",
        "        sentences, numbers, labels = data\n",
        "        inputs=torch.stack(preparedata(sentences,numbers))\n",
        "        inputs=inputs.cuda()\n",
        "        labels=labels.cuda()\n",
        "        optimizer.zero_grad()\n",
        "        outputs=Net(inputs)\n",
        "        loss = criterion(outputs, labels)\n",
        "        loss.backward()\n",
        "        optimizer.step()\n",
        "        \n",
        "        with torch.no_grad():\n",
        "            running_loss +=loss.item()\n",
        "            _, predicted = torch.max(outputs, 1)\n",
        "            correct += predicted.eq(labels).sum().item()\n",
        "            total += labels.size(0)\n",
        "            \n",
        "            \n",
        "    tr_loss = running_loss/i\n",
        "    tr_corr = correct/total*100\n",
        "    print(\"Train epoch \"+str(epoch+1)+\"  correct: \"+ str(tr_corr))\n",
        "    return tr_loss, tr_corr\n",
        "\n",
        "def val(epoch):\n",
        "    Net.eval()\n",
        "    running_loss=0.0\n",
        "    correct = 0.0\n",
        "    total=0\n",
        "    for i, data in enumerate(testloader, 0):\n",
        "        sentences, numbers, labels = data\n",
        "        inputs=torch.stack(preparedata(sentences,numbers))\n",
        "        labels=labels.cuda()\n",
        "        inputs=inputs.cuda()\n",
        "        with torch.no_grad():\n",
        "            outputs=Net(inputs)\n",
        "            loss = criterion(outputs, labels)\n",
        "            running_loss +=loss.item()\n",
        "            _, predicted = torch.max(outputs, 1)\n",
        "            correct += predicted.eq(labels).sum().item()\n",
        "            total += labels.size(0)\n",
        "            \n",
        "            \n",
        "    val_loss = running_loss/i\n",
        "    val_corr = correct/total*100\n",
        "    print(\"Test epoch \"+str(epoch + 1)+\"loss: \"+ str(running_loss / i)+ \"correct: \"+  str(val_corr))\n",
        "    return val_loss, val_corr"
      ],
      "execution_count": 13,
      "outputs": []
    },
    {
      "cell_type": "code",
      "metadata": {
        "id": "vpaAPSwQdM-4"
      },
      "source": [
        "\n",
        "train_accs = []\n",
        "train_losses = []\n",
        "val_accs = []\n",
        "val_losses = []\n",
        "best_acc = 0\n",
        "torch.manual_seed(32)\n",
        "torch.backends.cudnn.deterministic = True\n",
        "torch.backends.cudnn.benchmark=False\n",
        "criterion = createLoss()\n",
        "optimizer = createOptimizer()\n",
        "scheduler = creatScheduler()\n",
        "for epoch in range(numEpoch):\n",
        "    #Train\n",
        "    loss, acc = train(epoch)\n",
        "    train_accs.append(acc)\n",
        "    train_losses.append(loss)\n",
        "    #val\n",
        "    loss, acc = val(epoch)\n",
        "    val_accs.append(acc)\n",
        "    val_losses.append(loss)\n",
        "    scheduler.step()\n",
        "    print(acc)\n",
        "    if acc>best_acc:\n",
        "        best_acc = acc\n",
        "        print(\"Best model so far\")\n",
        "        torch.save(Net, \"model.pth\")"
      ],
      "execution_count": null,
      "outputs": []
    }
  ]
}