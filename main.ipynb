{
 "cells": [
  {
   "cell_type": "code",
   "execution_count": null,
   "metadata": {
    "id": "0tjkF5eGdM9h",
    "scrolled": true
   },
   "outputs": [],
   "source": [
    "import sys\n",
    "!{sys.executable} -m pip install transformers\n",
    "!{sys.executable} -m pip install torch\n",
    "!{sys.executable} -m pip install torchvision"
   ]
  },
  {
   "cell_type": "code",
   "execution_count": 1,
   "metadata": {
    "id": "NSLRGJU4dM9z"
   },
   "outputs": [],
   "source": [
    "\n",
    "from transformers import AutoTokenizer, AutoModel\n",
    "from torchvision import datasets\n",
    "import torch\n",
    "import torch.nn as nn\n",
    "import torch.optim as optim\n",
    "import csv\n",
    "\n",
    "\n",
    "def preparedata(sentences, tokennumbers):\n",
    "    \n",
    "    RetVal=[]\n",
    "    \n",
    "    inputs=tokenizer(sentences, padding=True, truncation=True, return_tensors=\"pt\")\n",
    "    outputs=aModel(**inputs)\n",
    "    \n",
    "    for i, tokens in enumerate(outputs[0]):\n",
    "        RetVal.append(tokens[int(tokennumbers[i])])\n",
    "    \n",
    "    return RetVal\n",
    "\n",
    "def casetonumber(case):\n",
    "    switch = {\n",
    "        \"Nom\": 0,\n",
    "        \"Acc\": 1,\n",
    "        \"Ins\": 2,\n",
    "        \"Ine\": 3, \n",
    "        \"Sup\": 4,\n",
    "        \"Sub\": 5\n",
    "    }\n",
    "    \n",
    "    return switch.get(case, \"Invalid case\")\n",
    "\n"
   ]
  },
  {
   "cell_type": "code",
   "execution_count": 2,
   "metadata": {
    "id": "7-J2stT3dM-C"
   },
   "outputs": [],
   "source": [
    "tokenizer = AutoTokenizer.from_pretrained(\"bert-base-multilingual-cased\")\n",
    "aModel = AutoModel.from_pretrained(\"bert-base-multilingual-cased\")\n",
    "\n",
    "file1 = open(\"outputtrainrevised.csv\")\n",
    "train_tsv=csv.reader( file1, delimiter=\"\\t\")\n",
    "\n",
    "file2 = open(\"outputtestrevised.csv\")\n",
    "test_tsv=csv.reader( file2, delimiter=\"\\t\")\n",
    "\n",
    "training_data=[]\n",
    "test_data=[]\n",
    "\n",
    "\n",
    "for i ,obj in enumerate(train_tsv, 0):\n",
    "    training_data.append([])\n",
    "    training_data[i].append(obj[0])\n",
    "    training_data[i].append(obj[3])\n",
    "    training_data[i].append(casetonumber(obj[4]))\n",
    "\n",
    "    \n",
    "for i, obj in enumerate(test_tsv):\n",
    "    test_data.append([])\n",
    "    test_data[i].append(obj[0])\n",
    "    test_data[i].append(obj[3])\n",
    "    test_data[i].append(casetonumber(obj[4]))\n",
    "\n",
    "\n",
    "trainloader=torch.utils.data.DataLoader(\n",
    "    training_data, batch_size=16, shuffle=True)\n",
    "\n",
    "testloader=torch.utils.data.DataLoader(\n",
    "    test_data, batch_size=16, shuffle=True)\n",
    "\n",
    "file1.close()\n",
    "file2.close()\n"
   ]
  },
  {
   "cell_type": "code",
   "execution_count": 3,
   "metadata": {
    "id": "HTdZwHdEdM-V"
   },
   "outputs": [],
   "source": [
    "\n",
    "class SimpleClassifier(nn.Module):\n",
    "    def __init__(self, input_dim,\n",
    "                 output_dim, hidden_dim):\n",
    "        \n",
    "        super().__init__()\n",
    "        self.input_layer = nn.Linear(input_dim, hidden_dim)\n",
    "        self.relu = nn.ReLU()\n",
    "        self.output_layer = nn.Linear(hidden_dim, output_dim)\n",
    "        \n",
    "    def forward(self, X):\n",
    "        h = self.input_layer(X)\n",
    "        h = self.relu(h)\n",
    "        out = self.output_layer(h)\n",
    "        return out"
   ]
  },
  {
   "cell_type": "code",
   "execution_count": 4,
   "metadata": {
    "id": "yPumJn_tdM-f"
   },
   "outputs": [],
   "source": [
    "Net = SimpleClassifier(\n",
    "    input_dim=768,\n",
    "    output_dim=6,\n",
    "    hidden_dim=50\n",
    ")\n",
    "Net\n",
    "Net=Net.cuda()"
   ]
  },
  {
   "cell_type": "code",
   "execution_count": 5,
   "metadata": {
    "id": "_AbxQdIUdM-q"
   },
   "outputs": [],
   "source": [
    "\n",
    "\n",
    "def createLoss():\n",
    "    return nn.CrossEntropyLoss()\n",
    "def createOptimizer():\n",
    "    return torch.optim.SGD(Net.parameters(), lr=1e-1, momentum=0.9, nesterov=True, weight_decay=1e-4)\n",
    "numEpoch = 10\n",
    "def creatScheduler():\n",
    "    return torch.optim.lr_scheduler.CosineAnnealingLR(optimizer, numEpoch, eta_min=1e-2)"
   ]
  },
  {
   "cell_type": "code",
   "execution_count": 13,
   "metadata": {
    "id": "YuRkHLwidM-y"
   },
   "outputs": [],
   "source": [
    "def train(epoch):\n",
    "    Net.train()\n",
    "    \n",
    "    running_loss=0.0\n",
    "    correct = 0.0\n",
    "    total=0\n",
    "    \n",
    "    for i, data in enumerate(trainloader, 0):\n",
    "        \n",
    "        sentences, numbers, labels = data\n",
    "        inputs=torch.stack(preparedata(sentences,numbers))\n",
    "        inputs=inputs.cuda()\n",
    "        labels=labels.cuda()\n",
    "        \n",
    "        optimizer.zero_grad()\n",
    "        outputs=Net(inputs)\n",
    "        loss = criterion(outputs, labels)\n",
    "        loss.backward()\n",
    "        optimizer.step()\n",
    "        \n",
    "        with torch.no_grad():\n",
    "            running_loss +=loss.item()\n",
    "            _, predicted = torch.max(outputs, 1)\n",
    "            correct += predicted.eq(labels).sum().item()\n",
    "            total += labels.size(0)\n",
    "            \n",
    "            \n",
    "    tr_loss = running_loss/i\n",
    "    tr_corr = correct/total*100\n",
    "    print(\"Train epoch \"+str(epoch+1)+\"  correct: \"+ str(tr_corr))\n",
    "    return tr_loss, tr_corr\n",
    "\n",
    "def val(epoch):\n",
    "    Net.eval()\n",
    "    \n",
    "    running_loss=0.0\n",
    "    correct = 0.0\n",
    "    total=0\n",
    "    \n",
    "    for i, data in enumerate(testloader, 0):\n",
    "        \n",
    "        sentences, numbers, labels = data\n",
    "        inputs=torch.stack(preparedata(sentences,numbers))\n",
    "        labels=labels.cuda()\n",
    "        inputs=inputs.cuda()\n",
    "        \n",
    "        with torch.no_grad():\n",
    "            outputs=Net(inputs)\n",
    "            loss = criterion(outputs, labels)\n",
    "            running_loss +=loss.item()\n",
    "            _, predicted = torch.max(outputs, 1)\n",
    "            correct += predicted.eq(labels).sum().item()\n",
    "            total += labels.size(0)\n",
    "            \n",
    "            \n",
    "    val_loss = running_loss/i\n",
    "    val_corr = correct/total*100\n",
    "    print(\"Test epoch \"+str(epoch + 1)+\"loss: \"+ str(running_loss / i)+ \"correct: \"+  str(val_corr))\n",
    "    return val_loss, val_corr"
   ]
  },
  {
   "cell_type": "code",
   "execution_count": null,
   "metadata": {
    "id": "vpaAPSwQdM-4"
   },
   "outputs": [],
   "source": [
    "\n",
    "train_accs = []\n",
    "train_losses = []\n",
    "val_accs = []\n",
    "val_losses = []\n",
    "best_acc = 0\n",
    "torch.manual_seed(32)\n",
    "torch.backends.cudnn.deterministic = True\n",
    "torch.backends.cudnn.benchmark=False\n",
    "\n",
    "criterion = createLoss()\n",
    "optimizer = createOptimizer()\n",
    "scheduler = creatScheduler()\n",
    "\n",
    "for epoch in range(numEpoch):\n",
    "\n",
    "    loss, acc = train(epoch)\n",
    "    train_accs.append(acc)\n",
    "    train_losses.append(loss)\n",
    "\n",
    "    loss, acc = val(epoch)\n",
    "    val_accs.append(acc)\n",
    "    val_losses.append(loss)\n",
    "    scheduler.step()\n",
    "\n",
    "    \n",
    "    if acc>best_acc:\n",
    "        best_acc = acc\n",
    "        print(\"Best model so far\")\n",
    "        torch.save(Net, \"model.pth\")"
   ]
  }
 ],
 "metadata": {
  "accelerator": "GPU",
  "colab": {
   "collapsed_sections": [],
   "name": "Copy of main.ipynb",
   "provenance": []
  },
  "kernelspec": {
   "display_name": "Python 3",
   "language": "python",
   "name": "python3"
  },
  "language_info": {
   "codemirror_mode": {
    "name": "ipython",
    "version": 3
   },
   "file_extension": ".py",
   "mimetype": "text/x-python",
   "name": "python",
   "nbconvert_exporter": "python",
   "pygments_lexer": "ipython3",
   "version": "3.7.3"
  }
 },
 "nbformat": 4,
 "nbformat_minor": 1
}
