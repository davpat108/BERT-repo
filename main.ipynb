{
 "cells": [
  {
   "cell_type": "code",
   "execution_count": null,
   "metadata": {},
   "outputs": [],
   "source": [
    "import sys\n",
    "!{sys.executable} -m pip install transformers\n",
    "!{sys.executable} -m pip install torch\n",
    "!{sys.executable} -m pip install seaborn\n",
    "!{sys.executable} -m pip install torchvision"
   ]
  },
  {
   "cell_type": "code",
   "execution_count": 1,
   "metadata": {},
   "outputs": [
    {
     "name": "stderr",
     "output_type": "stream",
     "text": [
      "/home/patrik/snap/jupyter/common/lib/python3.7/site-packages/joblib/_multiprocessing_helpers.py:45: UserWarning: [Errno 13] Permission denied.  joblib will operate in serial mode\n",
      "  warnings.warn('%s.  joblib will operate in serial mode' % (e,))\n"
     ]
    }
   ],
   "source": [
    "\n",
    "from transformers import AutoTokenizer, AutoModel\n",
    "import matplotlib.pyplot as plt\n",
    "import seaborn as sns\n",
    "import numpy as np\n",
    "from torchvision import datasets\n",
    "import torch\n",
    "import torch.nn as nn\n",
    "import torch.optim as opti\n",
    "import csv\n",
    "# ige a fgv \n",
    "\n",
    "\n",
    "def gettokennumber(sentence, tokenizer, number):\n",
    "    inputs = tokenizer(sentence)\n",
    "    word=0\n",
    "    token=0\n",
    "    hyphen=0\n",
    "    for tokenid in inputs[\"input_ids\"]:\n",
    "        if str(tokenizer.decode(tokenid))==\"-\":\n",
    "            hyphen=hyphen+1\n",
    "        if str(tokenizer.decode(tokenid)).startswith(\"#\")==False:\n",
    "            if word==number+2+hyphen:\n",
    "                return token-1\n",
    "            word=word+1   \n",
    "        token=token+1\n",
    "\n",
    "        \n",
    "def wordextractor(sentence, number):\n",
    "    words=sentence.split(\" \")\n",
    "    return words[number]\n",
    "\n",
    "def casetonumber(case):\n",
    "    switch = {\n",
    "        \"Nom\": 0,\n",
    "        \"Acc\": 1,\n",
    "        \"Ins\": 2,\n",
    "        \"Ine\": 3, \n",
    "        \"Sup\": 4,\n",
    "        \"Sub\": 5\n",
    "    }\n",
    "    return switch.get(case, \"Invalid case\")\n",
    "\n",
    "tokenizer = AutoTokenizer.from_pretrained(\"bert-base-multilingual-cased\")\n",
    "model = AutoModel.from_pretrained(\"bert-base-multilingual-cased\")\n"
   ]
  },
  {
   "cell_type": "code",
   "execution_count": null,
   "metadata": {},
   "outputs": [],
   "source": [
    "\n",
    "\n",
    "file1 = open(\"train.tsv\")\n",
    "train_tsv=csv.reader( file1, delimiter=\"\\t\")\n",
    "\n",
    "file2 = open(\"test.tsv\")\n",
    "test_tsv=csv.reader( file2, delimiter=\"\\t\")\n",
    "\n",
    "training_data=[]\n",
    "test_data=[]\n",
    "i=0 \n",
    "for obj in train_tsv:\n",
    "    training_data.append([])\n",
    "    training_data[i].append(obj[0])\n",
    "    training_data[i].append(obj[2])\n",
    "    training_data[i].append(casetonumber(obj[3]))\n",
    "    i=i+1\n",
    "\n",
    "i=0\n",
    "for obj in test_tsv:\n",
    "    test_data.append([])\n",
    "    test_data[i].append(obj[0])\n",
    "    test_data[i].append(obj[2])\n",
    "    test_data[i].append(casetonumber(obj[3]))\n",
    "    i=i+1\n",
    "\n",
    "trainloader=torch.utils.data.DataLoader(training_data, batch_size=128, shuffle=True)\n",
    "testloader=torch.utils.data.DataLoader(test_data, batch_size=128, shuffle=True)\n",
    "file1.close()\n",
    "file2.close()\n",
    "print(\"DONE\")\n"
   ]
  },
  {
   "cell_type": "code",
   "execution_count": 5,
   "metadata": {},
   "outputs": [
    {
     "name": "stdout",
     "output_type": "stream",
     "text": [
      "<torch.utils.data.dataloader.DataLoader object at 0x7fcc512f9e80>\n"
     ]
    }
   ],
   "source": [
    "\n",
    "class SimpleClassifier(nn.Module):\n",
    "    def __init__(self, input_dim, output_dim, hidden_dim):\n",
    "        super().__init__()\n",
    "        self.input_layer = nn.Linear(input_dim, hidden_dim)\n",
    "        self.relu = nn.ReLU()\n",
    "        self.output_layer = nn.Linear(hidden_dim, output_dim)\n",
    "        \n",
    "    def forward(self, X):\n",
    "        h = self.input_layer(X)\n",
    "        h = self.relu(h)\n",
    "        out = self.output_layer(h)\n",
    "        return out"
   ]
  },
  {
   "cell_type": "code",
   "execution_count": null,
   "metadata": {},
   "outputs": [],
   "source": []
  }
 ],
 "metadata": {
  "kernelspec": {
   "display_name": "Python 3",
   "language": "python",
   "name": "python3"
  },
  "language_info": {
   "codemirror_mode": {
    "name": "ipython",
    "version": 3
   },
   "file_extension": ".py",
   "mimetype": "text/x-python",
   "name": "python",
   "nbconvert_exporter": "python",
   "pygments_lexer": "ipython3",
   "version": "3.7.3"
  }
 },
 "nbformat": 4,
 "nbformat_minor": 2
}
