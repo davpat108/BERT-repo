{
 "cells": [
  {
   "cell_type": "code",
   "execution_count": null,
   "metadata": {
    "scrolled": true
   },
   "outputs": [],
   "source": [
    "import sys\n",
    "!{sys.executable} -m pip install transformers\n",
    "!{sys.executable} -m pip install torch\n",
    "!{sys.executable} -m pip install seaborn\n",
    "!{sys.executable} -m pip install torchvision"
   ]
  },
  {
   "cell_type": "code",
   "execution_count": 40,
   "metadata": {},
   "outputs": [],
   "source": [
    "\n",
    "from transformers import AutoTokenizer, AutoModel\n",
    "import matplotlib.pyplot as plt\n",
    "import seaborn as sns\n",
    "import numpy as np\n",
    "from torchvision import datasets\n",
    "import torch\n",
    "import torch.nn as nn\n",
    "import torch.optim as optim\n",
    "import csv\n",
    "\n",
    "\n",
    "def preparedata(sentences, tokennumbers):\n",
    "    \n",
    "    RetVal=[]\n",
    "    \n",
    "    inputs=tokenizer(sentences, return_tensors=\"pt\")\n",
    "    outputs=aModel(**inputs)\n",
    "    \n",
    "    for i, tokens in enumerate(outputs[0]):\n",
    "        RetVal.append(tokens[tokennumbers[i]])\n",
    "    \n",
    "    return RetVal\n",
    "\n",
    "def casetonumber(case):\n",
    "    switch = {\n",
    "        \"Nom\": 0,\n",
    "        \"Acc\": 1,\n",
    "        \"Ins\": 2,\n",
    "        \"Ine\": 3, \n",
    "        \"Sup\": 4,\n",
    "        \"Sub\": 5\n",
    "    }\n",
    "    return switch.get(case, \"Invalid case\")\n",
    "\n"
   ]
  },
  {
   "cell_type": "code",
   "execution_count": 41,
   "metadata": {},
   "outputs": [],
   "source": [
    "tokenizer = AutoTokenizer.from_pretrained(\"bert-base-multilingual-cased\")\n",
    "aModel = AutoModel.from_pretrained(\"bert-base-multilingual-cased\")\n",
    "\n",
    "file1 = open(\"outputtrainrevised.csv\")\n",
    "train_tsv=csv.reader( file1, delimiter=\"\\t\")\n",
    "\n",
    "file2 = open(\"outputtestrevised.csv\")\n",
    "test_tsv=csv.reader( file2, delimiter=\"\\t\")\n",
    "\n",
    "training_data=[]\n",
    "test_data=[]\n",
    "\n",
    "\n",
    "for i ,obj in enumerate(train_tsv, 0):\n",
    "    training_data.append([])\n",
    "    training_data[i].append(obj[0])\n",
    "    training_data[i].append(obj[3])\n",
    "    training_data[i].append(casetonumber(obj[4]))\n",
    "\n",
    "    \n",
    "for i, obj in enumerate(test_tsv):\n",
    "    test_data.append([])\n",
    "    test_data[i].append(obj[0])\n",
    "    test_data[i].append(obj[3])\n",
    "    test_data[i].append(casetonumber(obj[4]))\n",
    "\n",
    "\n",
    "trainloader=torch.utils.data.DataLoader(training_data, batch_size=16, shuffle=True)\n",
    "testloader=torch.utils.data.DataLoader(test_data, batch_size=16, shuffle=True)\n",
    "file1.close()\n",
    "file2.close()\n"
   ]
  },
  {
   "cell_type": "code",
   "execution_count": null,
   "metadata": {},
   "outputs": [],
   "source": [
    "#test=tokenizer(\"Ez egy testmondat.\", return_tensors=\"pt\")\n",
    "test=tokenizer([\"Ez egy testmondat.\", \"Ez is az.\", \"Emez is az.\"],padding=True, truncation=True, return_tensors=\"pt\")\n",
    "out=aModel(**test)\n",
    "print(out[0][1][0])"
   ]
  },
  {
   "cell_type": "code",
   "execution_count": 42,
   "metadata": {},
   "outputs": [],
   "source": [
    "\n",
    "class SimpleClassifier(nn.Module):\n",
    "    def __init__(self, input_dim, output_dim, hidden_dim):\n",
    "        super().__init__()\n",
    "        self.input_layer = nn.Linear(input_dim, hidden_dim)\n",
    "        self.relu = nn.ReLU()\n",
    "        self.output_layer = nn.Linear(hidden_dim, output_dim)\n",
    "        \n",
    "    def forward(self, X):\n",
    "        h = self.input_layer(X)\n",
    "        h = self.relu(h)\n",
    "        out = self.output_layer(h)\n",
    "        return out"
   ]
  },
  {
   "cell_type": "code",
   "execution_count": 43,
   "metadata": {},
   "outputs": [
    {
     "data": {
      "text/plain": [
       "SimpleClassifier(\n",
       "  (input_layer): Linear(in_features=768, out_features=50, bias=True)\n",
       "  (relu): ReLU()\n",
       "  (output_layer): Linear(in_features=50, out_features=6, bias=True)\n",
       ")"
      ]
     },
     "execution_count": 43,
     "metadata": {},
     "output_type": "execute_result"
    }
   ],
   "source": [
    "Net = SimpleClassifier(\n",
    "    input_dim=768,\n",
    "    output_dim=6,\n",
    "    hidden_dim=50\n",
    ")\n",
    "Net"
   ]
  },
  {
   "cell_type": "code",
   "execution_count": 44,
   "metadata": {},
   "outputs": [],
   "source": [
    "criterion = nn.CrossEntropyLoss()\n",
    "optimizer = optim.Adam(Net.parameters())"
   ]
  },
  {
   "cell_type": "code",
   "execution_count": 45,
   "metadata": {},
   "outputs": [],
   "source": [
    "def train(epoch):\n",
    "    Net.train()\n",
    "    running_loss=0.0\n",
    "    correct = 0.0\n",
    "    total=0\n",
    "    for i, data in enumerate(trainloader, 0):\n",
    "        sentences, numbers, labels = data\n",
    "        inputs=preparedata(sentences,numbers)\n",
    "        optimizer.zero_grad()\n",
    "        outputs=Net(inputs)\n",
    "        loss = criterion(outputs, labels)\n",
    "        loss.backward()\n",
    "        optimizer.step()\n",
    "        \n",
    "        with torch.no_grad():\n",
    "            running_loss +=loss.items()\n",
    "            _, predicted = torch.max(outputs, 1)\n",
    "            correct += predicted.eq(label).sum().item()\n",
    "            total += label.size(0)\n",
    "            \n",
    "            \n",
    "    tr_loss = running_loss/i\n",
    "    tr_corr = correct/total*100\n",
    "    print(\"Train epoch %d correct: %.2f%\" %(epoch + 1, tr_corr))\n",
    "    return tr_loss, tr_corr\n",
    "\n",
    "def val(epoch):\n",
    "    Net.eval()\n",
    "    running_loss=0.0\n",
    "    correct = 0.0\n",
    "    total=0\n",
    "    for i, data in enumerate(testloader, 0):\n",
    "        sentences, numbers, labels = data\n",
    "        inputs=preparedata(sentences, numbers)\n",
    "        with torch.no_grad():\n",
    "            outputs=Net(inputs)\n",
    "            loss = criterion(outputs, labels)\n",
    "            running_loss +=loss.items()\n",
    "            _, predicted = torch.max(outputs, 1)\n",
    "            correct += predicted.eq(label).sum().item()\n",
    "            total += label.size(0)\n",
    "            \n",
    "            \n",
    "    val_loss = running_loss/i\n",
    "    val_corr = correct/total*100\n",
    "    print(\"Test epoch %d correct: %.2f%\" %(epoch + 1, tr_corr))\n",
    "    return val_loss, val_corr"
   ]
  },
  {
   "cell_type": "code",
   "execution_count": null,
   "metadata": {},
   "outputs": [],
   "source": [
    "\n",
    "train_accs = []\n",
    "train_losses = []\n",
    "val_accs = []\n",
    "val_losses = []\n",
    "best_acc = 0\n",
    "torch.manual_seed(42)\n",
    "numEpoch=10\n",
    "for epoch in range(numEpoch):\n",
    "    #Train\n",
    "    loss, acc = train(epoch)\n",
    "    train_accs.append(acc)\n",
    "    train_losses.append(loss)\n",
    "    #val\n",
    "    loss, acc = val(epoch)\n",
    "    val_accs.append(acc)\n",
    "    val_losses.append(loss)\n",
    "    scheduler.step()\n",
    "    if acc>best_acc:\n",
    "        best_acc = acc\n",
    "        print(\"Best model so far\")\n",
    "        torch.save(net, \"model.pth\")"
   ]
  },
  {
   "cell_type": "code",
   "execution_count": null,
   "metadata": {},
   "outputs": [],
   "source": []
  }
 ],
 "metadata": {
  "kernelspec": {
   "display_name": "Python 3",
   "language": "python",
   "name": "python3"
  },
  "language_info": {
   "codemirror_mode": {
    "name": "ipython",
    "version": 3
   },
   "file_extension": ".py",
   "mimetype": "text/x-python",
   "name": "python",
   "nbconvert_exporter": "python",
   "pygments_lexer": "ipython3",
   "version": "3.7.3"
  }
 },
 "nbformat": 4,
 "nbformat_minor": 2
}
