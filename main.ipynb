{
 "cells": [
  {
   "cell_type": "code",
   "execution_count": null,
   "metadata": {},
   "outputs": [],
   "source": [
    "import sys\n",
    "!{sys.executable} -m pip install transformers\n",
    "!{sys.executable} -m pip install torch\n",
    "!{sys.executable} -m pip install seaborn\n",
    "!{sys.executable} -m pip install torchvision"
   ]
  },
  {
   "cell_type": "code",
   "execution_count": 56,
   "metadata": {},
   "outputs": [],
   "source": [
    "\n",
    "from transformers import AutoTokenizer, AutoModel\n",
    "import matplotlib.pyplot as plt\n",
    "import seaborn as sns\n",
    "import numpy as np\n",
    "from torchvision import datasets\n",
    "import torch\n",
    "import torch.nn as nn\n",
    "import torch.optim as optim\n",
    "import csv\n",
    "\n",
    "\n",
    "tokenizer = AutoTokenizer.from_pretrained(\"bert-base-multilingual-cased\")\n",
    "bertmodel = AutoModel.from_pretrained(\"bert-base-multilingual-cased\")\n",
    "\n",
    "def gettokennumber(sentence, number):\n",
    "    inputs = tokenizer(sentence)\n",
    "    word=0\n",
    "    token=0\n",
    "    hyphen=0\n",
    "    for tokenid in inputs[\"input_ids\"]:\n",
    "        if str(tokenizer.decode(tokenid))==\"-\":\n",
    "            hyphen=hyphen+1\n",
    "        if str(tokenizer.decode(tokenid)).startswith(\"#\")==False:\n",
    "            if word==number+2+hyphen:\n",
    "                return token-1\n",
    "            word=word+1   \n",
    "        token=token+1\n",
    "\n",
    "def preparedata(datacluster):\n",
    "    RetVal=[]\n",
    "    for data in datacluster:\n",
    "        sentence, number, _ = data\n",
    "        tokennumber=gettokennumber(sentence, number)\n",
    "        inputs=tokenizer(sentence, return_tensors=\"pt\")\n",
    "        RetVal.append(bertmodel(**inputs)[0][0][tokennumber])\n",
    "    return RetVal\n",
    "        \n",
    "        \n",
    "def wordextractor(sentence, number):\n",
    "    words=sentence.split(\" \")\n",
    "    return words[number]\n",
    "\n",
    "def casetonumber(case):\n",
    "    switch = {\n",
    "        \"Nom\": 0,\n",
    "        \"Acc\": 1,\n",
    "        \"Ins\": 2,\n",
    "        \"Ine\": 3, \n",
    "        \"Sup\": 4,\n",
    "        \"Sub\": 5\n",
    "    }\n",
    "    return switch.get(case, \"Invalid case\")\n",
    "\n"
   ]
  },
  {
   "cell_type": "code",
   "execution_count": 2,
   "metadata": {},
   "outputs": [
    {
     "name": "stdout",
     "output_type": "stream",
     "text": [
      "DONE\n"
     ]
    }
   ],
   "source": [
    "\n",
    "\n",
    "file1 = open(\"train.tsv\")\n",
    "train_tsv=csv.reader( file1, delimiter=\"\\t\")\n",
    "\n",
    "file2 = open(\"test.tsv\")\n",
    "test_tsv=csv.reader( file2, delimiter=\"\\t\")\n",
    "\n",
    "training_data=[]\n",
    "test_data=[]\n",
    "\n",
    "\n",
    "i=0 \n",
    "for obj in train_tsv:\n",
    "    training_data.append([])\n",
    "    training_data[i].append(obj[0])\n",
    "    training_data[i].append(obj[2])\n",
    "    training_data[i].append(casetonumber(obj[3]))\n",
    "    i=i+1\n",
    "\n",
    "i=0\n",
    "for obj in test_tsv:\n",
    "    test_data.append([])\n",
    "    test_data[i].append(obj[0])\n",
    "    test_data[i].append(obj[2])\n",
    "    test_data[i].append(casetonumber(obj[3]))\n",
    "    i=i+1\n",
    "\n",
    "trainloader=torch.utils.data.DataLoader(training_data, batch_size=128, shuffle=True)\n",
    "testloader=torch.utils.data.DataLoader(test_data, batch_size=128, shuffle=True)\n",
    "file1.close()\n",
    "file2.close()\n",
    "print(\"DONE\")\n"
   ]
  },
  {
   "cell_type": "code",
   "execution_count": 39,
   "metadata": {},
   "outputs": [],
   "source": [
    "\n",
    "class SimpleClassifier(nn.Module):\n",
    "    def __init__(self, input_dim, output_dim, hidden_dim):\n",
    "        super().__init__()\n",
    "        self.input_layer = nn.Linear(input_dim, hidden_dim)\n",
    "        self.relu = nn.ReLU()\n",
    "        self.output_layer = nn.Linear(hidden_dim, output_dim)\n",
    "        \n",
    "    def forward(self, X):\n",
    "        h = self.input_layer(X)\n",
    "        h = self.relu(h)\n",
    "        out = self.output_layer(h)\n",
    "        return out"
   ]
  },
  {
   "cell_type": "code",
   "execution_count": 37,
   "metadata": {},
   "outputs": [
    {
     "name": "stdout",
     "output_type": "stream",
     "text": [
      "torch.Size([768])\n"
     ]
    }
   ],
   "source": [
    "print(output[0][0][3].size())"
   ]
  },
  {
   "cell_type": "code",
   "execution_count": 41,
   "metadata": {},
   "outputs": [
    {
     "data": {
      "text/plain": [
       "SimpleClassifier(\n",
       "  (input_layer): Linear(in_features=768, out_features=50, bias=True)\n",
       "  (relu): ReLU()\n",
       "  (output_layer): Linear(in_features=50, out_features=6, bias=True)\n",
       ")"
      ]
     },
     "execution_count": 41,
     "metadata": {},
     "output_type": "execute_result"
    }
   ],
   "source": [
    "Net = SimpleClassifier(\n",
    "    input_dim=768,\n",
    "    output_dim=6,\n",
    "    hidden_dim=50\n",
    ")\n",
    "Net"
   ]
  },
  {
   "cell_type": "code",
   "execution_count": 44,
   "metadata": {},
   "outputs": [],
   "source": [
    "criterion = nn.CrossEntropyLoss()\n",
    "optimizer = optim.Adam(nnModel.parameters())"
   ]
  },
  {
   "cell_type": "code",
   "execution_count": 57,
   "metadata": {},
   "outputs": [],
   "source": [
    "def train(epoch):\n",
    "    Net.train()\n",
    "    running_loss=0.0\n",
    "    correct = 0.0\n",
    "    total=0\n",
    "    for i, data in enumarate(trainloader, 0):\n",
    "        _, _, labels = data\n",
    "        inputs = preparedata(data)\n",
    "        optimizer.zero_grad()\n",
    "        outputs=Net(inputs)\n",
    "        loss = criterion(outputs, labels)\n",
    "        loss.backward()\n",
    "        optimizer.step()\n",
    "        \n",
    "        with torch.no_grad():\n",
    "            running_loss +=loss.items()\n",
    "            _, predicted = torch.max(outputs, 1)\n",
    "            correct += predicted.eq(label).sum().item()\n",
    "            total += label.size(0)\n",
    "            \n",
    "            \n",
    "    tr_loss = running_loss/i\n",
    "    tr_corr = correct/total*100\n",
    "    print(\"Train epoch %d correct: %.2f%\" %(epoch + 1, tr_corr))\n",
    "    return tr_loss, tr_corr\n",
    "\n",
    "def val(epoch):\n",
    "    Net.eval()\n",
    "    running_loss=0.0\n",
    "    correct = 0.0\n",
    "    total=0\n",
    "    for i, data in enumarate(testloader, 0):\n",
    "        _, _, labels = data\n",
    "        inputs = preparedata(data)\n",
    "\n",
    "        with torch.no_grad():\n",
    "            outputs=Net(inputs)\n",
    "            loss = criterion(outputs, labels)\n",
    "            running_loss +=loss.items()\n",
    "            _, predicted = torch.max(outputs, 1)\n",
    "            correct += predicted.eq(label).sum().item()\n",
    "            total += label.size(0)\n",
    "            \n",
    "            \n",
    "    val_loss = running_loss/i\n",
    "    val_corr = correct/total*100\n",
    "    print(\"Test epoch %d correct: %.2f%\" %(epoch + 1, tr_corr))\n",
    "    return val_loss, val_corr"
   ]
  },
  {
   "cell_type": "code",
   "execution_count": null,
   "metadata": {},
   "outputs": [],
   "source": []
  }
 ],
 "metadata": {
  "kernelspec": {
   "display_name": "Python 3",
   "language": "python",
   "name": "python3"
  },
  "language_info": {
   "codemirror_mode": {
    "name": "ipython",
    "version": 3
   },
   "file_extension": ".py",
   "mimetype": "text/x-python",
   "name": "python",
   "nbconvert_exporter": "python",
   "pygments_lexer": "ipython3",
   "version": "3.7.3"
  }
 },
 "nbformat": 4,
 "nbformat_minor": 2
}
