{
 "cells": [
  {
   "cell_type": "code",
   "execution_count": null,
   "metadata": {},
   "outputs": [],
   "source": [
    "import sys\n",
    "!{sys.executable} -m pip install transformers\n",
    "!{sys.executable} -m pip install torch\n",
    "!{sys.executable} -m pip install seaborn\n",
    "!{sys.executable} -m pip install torchvision"
   ]
  },
  {
   "cell_type": "code",
   "execution_count": null,
   "metadata": {},
   "outputs": [],
   "source": [
    "\n",
    "import torch\n",
    "from transformers import AutoTokenizer, AutoModel\n",
    "\n",
    "\n",
    "\n",
    "tokenizer = AutoTokenizer.from_pretrained(\"bert-base-multilingual-cased\")  #multillingual\n",
    "model = AutoModel.from_pretrained(\"bert-base-multilingual-cased\")\n",
    "print(\"done\")"
   ]
  },
  {
   "cell_type": "code",
   "execution_count": null,
   "metadata": {},
   "outputs": [],
   "source": [
    "def wordextractor(sentence, number): #split() helyette\n",
    "    words=sentence.split(\" \")\n",
    "    return words[number]\n",
    "\n",
    "print(wordextractor(\"A kutyeszok alszalanak\", 2))\n"
   ]
  },
  {
   "cell_type": "code",
   "execution_count": null,
   "metadata": {},
   "outputs": [],
   "source": [
    "\n",
    "\n",
    "import matplotlib.pyplot as plt\n",
    "import seaborn as sns\n",
    "import numpy as np\n",
    "from torchvision import datasets\n",
    "import torch\n",
    "import torch.nn as nn\n",
    "import torch.optim as opti\n",
    "import csv"
   ]
  },
  {
   "cell_type": "code",
   "execution_count": null,
   "metadata": {},
   "outputs": [],
   "source": [
    "def casetonumber(case):\n",
    "    switch = {\n",
    "        \"Nom\": 1,\n",
    "        \"Acc\": 2,\n",
    "        \"Ins\": 3,\n",
    "        \"Ine\": 4,\n",
    "        \"Sup\": 5,\n",
    "        \"Sub\": 6\n",
    "    }\n",
    "    return switch.get(case, \"Invalid case\")"
   ]
  },
  {
   "cell_type": "code",
   "execution_count": 18,
   "metadata": {},
   "outputs": [
    {
     "name": "stdout",
     "output_type": "stream",
     "text": [
      "DONE\n"
     ]
    }
   ],
   "source": [
    "file1 = open(\"train.tsv\")\n",
    "train_tsv=csv.reader(file1, delimiter=\"\\t\")\n",
    "file2 = open(\"test.tsv\")\n",
    "test_tsv=csv.reader(file2, delimiter=\"\\t\")\n",
    "training_data=[]\n",
    "test_data=[]\n",
    "i=0\n",
    "for obj in train_tsv:\n",
    "    training_data.append([])\n",
    "    training_data[i].append(obj[0])\n",
    "    training_data[i].append(obj[2])\n",
    "    training_data[i].append(casetonumber(obj[3]))\n",
    "    i=i+1\n",
    "\n",
    "i=0\n",
    "for obj in test_tsv:\n",
    "    test_data.append([])\n",
    "    test_data[i].append(obj[0])\n",
    "    test_data[i].append(obj[2])\n",
    "    test_data[i].append(casetonumber(obj[3]))\n",
    "    i=i+1\n",
    "\n",
    "\n",
    "trainloader=torch.utils.data.DataLoader(training_data, batch_size=128, shuffle=True)\n",
    "testloader=torch.utils.data.DataLoader(test_data, batch_size=128, shuffle=True)\n",
    "file1.close()\n",
    "file2.close()\n",
    "print(\"DONE\")"
   ]
  },
  {
   "cell_type": "code",
   "execution_count": 17,
   "metadata": {},
   "outputs": [
    {
     "name": "stdout",
     "output_type": "stream",
     "text": [
      "<torch.utils.data.dataloader.DataLoader object at 0x7f47f39e6a58>\n"
     ]
    }
   ],
   "source": [
    "print(testloader)"
   ]
  }
 ],
 "metadata": {
  "kernelspec": {
   "display_name": "Python 3",
   "language": "python",
   "name": "python3"
  },
  "language_info": {
   "codemirror_mode": {
    "name": "ipython",
    "version": 3
   },
   "file_extension": ".py",
   "mimetype": "text/x-python",
   "name": "python",
   "nbconvert_exporter": "python",
   "pygments_lexer": "ipython3",
   "version": "3.7.3"
  }
 },
 "nbformat": 4,
 "nbformat_minor": 2
}
